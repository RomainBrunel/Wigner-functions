{
 "cells": [
  {
   "cell_type": "code",
   "execution_count": 1,
   "metadata": {},
   "outputs": [],
   "source": [
    "import numpy as np\n",
    "from converter import *\n",
    "%load_ext line_profiler"
   ]
  },
  {
   "cell_type": "code",
   "execution_count": 4,
   "metadata": {},
   "outputs": [
    {
     "name": "stdout",
     "output_type": "stream",
     "text": [
      "[[0. 0. 0. 0. 0.]\n",
      " [0. 1. 0. 0. 0.]\n",
      " [0. 0. 0. 0. 0.]\n",
      " [0. 0. 0. 0. 0.]\n",
      " [0. 0. 0. 0. 0.]]\n",
      "515 ms ± 2.87 ms per loop (mean ± std. dev. of 7 runs, 1 loop each)\n"
     ]
    },
    {
     "name": "stdout",
     "output_type": "stream",
     "text": [
      "Timer unit: 1e-07 s\n",
      "\n",
      "Total time: 1.16532 s\n",
      "File: c:\\Users\\romjer\\Documents\\PhD\\Cours\\SCIQIS\\Wigner-functions\\converter.py\n",
      "Function: W_mn at line 32\n",
      "\n",
      "Line #      Hits         Time  Per Hit   % Time  Line Contents\n",
      "==============================================================\n",
      "    32                                           def W_mn(x,p,m,n):\n",
      "    33         1        233.0    233.0      0.0      vectorized_apply = np.vectorize(lambda f, p: f(p))\n",
      "    34         1      29789.0  29789.0      0.3      a = 1/np.pi*np.exp(-x**2-p**2)\n",
      "    35         1      60535.0  60535.0      0.5      b = (-1)**n*(x-1j*p)**(m-n)\n",
      "    36         1      99550.0  99550.0      0.9      c = np.sqrt(2**abs(m-n)*factorial(n,exact=True)/factorial(m,exact=True))\n",
      "    37         1    4219940.0    4e+06     36.2      dbis = mygenlaguerre(n,abs(m-n))\n",
      "    38         1    7214795.0    7e+06     61.9      d = vectorized_apply(dbis,2*x**2+2*p**2)\n",
      "    39         1      28374.0  28374.0      0.2      return a*b*c*d"
     ]
    }
   ],
   "source": [
    "\n",
    "x = np.linspace(-5,5,100)\n",
    "p = np.linspace(-5,5,100)\n",
    "\n",
    "n_cutoff = 5\n",
    "one = np.zeros(n_cutoff).reshape(n_cutoff,1)\n",
    "one[1]=1\n",
    "rho = one @ one.T\n",
    "print(rho)\n",
    "\n",
    "%timeit wigner_from_density(rho, x, p)\n",
    "\n",
    "%lprun -f  W_mn wigner_from_density(rho, x, p)\n",
    "\n",
    "# X,Y = np.meshgrid(x,p)\n",
    "# plt.imshow(W, cmap=\"RdBu_r\")\n",
    "# plt.show()"
   ]
  },
  {
   "cell_type": "code",
   "execution_count": 4,
   "metadata": {},
   "outputs": [
    {
     "name": "stdout",
     "output_type": "stream",
     "text": [
      "[[0.17639058 0.04623799 0.04908614 0.10940379 0.08194804 0.0703883\n",
      "  0.08471434 0.00903552 0.06461318 0.13380712]\n",
      " [0.00680541 0.00608076 0.04614849 0.04508721 0.00809849 0.15221151\n",
      "  0.09351517 0.0468337  0.04754363 0.02179907]\n",
      " [0.13764858 0.03277814 0.14894832 0.17601159 0.16057922 0.01373565\n",
      "  0.09454558 0.00286514 0.07188063 0.06932301]\n",
      " [0.04207172 0.09475837 0.16983878 0.02547564 0.04539938 0.1585488\n",
      "  0.09235856 0.15856689 0.16174023 0.01824765]\n",
      " [0.04323801 0.05188413 0.03912857 0.11844703 0.07654739 0.15990529\n",
      "  0.12450929 0.00716134 0.09795922 0.13099654]\n",
      " [0.08740248 0.09262769 0.07265287 0.16942997 0.02796887 0.14501764\n",
      "  0.05843604 0.16684192 0.07751765 0.17024333]\n",
      " [0.0252511  0.09012573 0.05882389 0.00554049 0.12956159 0.10741855\n",
      "  0.0735993  0.17605317 0.05411878 0.13104454]\n",
      " [0.05264763 0.00192214 0.11791865 0.00259088 0.12246609 0.14274988\n",
      "  0.14106683 0.11996568 0.12621974 0.00738829]\n",
      " [0.08983935 0.13573664 0.06816496 0.10269116 0.12711259 0.00524936\n",
      "  0.10847056 0.05212979 0.04565456 0.11520391]\n",
      " [0.03518413 0.03858369 0.08582999 0.17632846 0.11503836 0.08130148\n",
      "  0.00028042 0.12324196 0.05759141 0.16038147]]\n",
      "2.26 s ± 169 ms per loop (mean ± std. dev. of 7 runs, 1 loop each)\n",
      "2.98 s ± 24.8 ms per loop (mean ± std. dev. of 7 runs, 1 loop each)\n"
     ]
    },
    {
     "name": "stdout",
     "output_type": "stream",
     "text": [
      "Timer unit: 1e-07 s\n",
      "\n",
      "Total time: 6.39334 s\n",
      "File: c:\\Users\\romjer\\Documents\\PhD\\Cours\\SCIQIS\\Wigner-functions\\converter.py\n",
      "Function: W_mn2 at line 83\n",
      "\n",
      "Line #      Hits         Time  Per Hit   % Time  Line Contents\n",
      "==============================================================\n",
      "    83                                           def W_mn2(x,p,m,n):\n",
      "    84         1        346.0    346.0      0.0      vectorized_apply = np.vectorize(lambda f, p: f(p))\n",
      "    85         1     144777.0 144777.0      0.2      a = 1/np.pi*np.exp(-x**2-p**2)\n",
      "    86         1     290875.0 290875.0      0.5      b = (-1)**n*(x-1j*p)**(m-n)\n",
      "    87         1     545742.0 545742.0      0.9      c = np.sqrt(2**abs(m-n)*factorial(n,exact=True)/factorial(m,exact=True))\n",
      "    88         1   62828967.0    6e+07     98.3      dbis = mygenlaguerre2(n,abs(m-n),x,p)\n",
      "    89                                               # d = vectorized_apply(dbis,2*x**2+2*p**2)\n",
      "    90         1     122740.0 122740.0      0.2      return a*b*c*dbis"
     ]
    }
   ],
   "source": [
    "x = np.linspace(-5,5,100)\n",
    "p = np.linspace(-5,5,100)\n",
    "\n",
    "n_cutoff = 10\n",
    "one = np.zeros(n_cutoff).reshape(n_cutoff,1)\n",
    "one[1]=1\n",
    "rho = np.random.rand(10,10)\n",
    "rho = rho/np.linalg.norm(rho)\n",
    "print(rho)\n",
    "\n",
    "%timeit wigner_from_density(rho, x, p)\n",
    "\n",
    "%lprun -f  W_mn wigner_from_density(rho, x, p)\n",
    "\n",
    "%timeit wigner_from_density2(rho, x, p)\n",
    "\n",
    "%lprun -f  W_mn2 wigner_from_density2(rho, x, p)"
   ]
  },
  {
   "cell_type": "code",
   "execution_count": 3,
   "metadata": {},
   "outputs": [
    {
     "name": "stdout",
     "output_type": "stream",
     "text": [
      "[[0. 0. 0. 0. 0.]\n",
      " [0. 1. 0. 0. 0.]\n",
      " [0. 0. 0. 0. 0.]\n",
      " [0. 0. 0. 0. 0.]\n",
      " [0. 0. 0. 0. 0.]]\n",
      "704 ms ± 48 ms per loop (mean ± std. dev. of 7 runs, 1 loop each)\n"
     ]
    },
    {
     "name": "stdout",
     "output_type": "stream",
     "text": [
      "Timer unit: 1e-07 s\n",
      "\n",
      "Total time: 1.8079 s\n",
      "File: c:\\Users\\romjer\\Documents\\PhD\\Cours\\SCIQIS\\Wigner-functions\\converter.py\n",
      "Function: mygenlaguerre at line 7\n",
      "\n",
      "Line #      Hits         Time  Per Hit   % Time  Line Contents\n",
      "==============================================================\n",
      "     7                                           def mygenlaguerre(n,m,x,p):\n",
      "     8                                                   # Loop over each pair of n and alpha\n",
      "     9         1         79.0     79.0      0.0      results = np.empty(n.shape)\n",
      "    10         1          5.0      5.0      0.0      computed_polynomials = {}\n",
      "    11         1          2.0      2.0      0.0      computed_axis = {}\n",
      "    12                                               \n",
      "    13                                               # Loop over each pair of n and alpha\n",
      "    14    250001    3028502.0     12.1     16.8      for index in np.ndindex(n.shape):\n",
      "    15    250000     787344.0      3.1      4.4          n_val = n[index]\n",
      "    16    250000     693862.0      2.8      3.8          alpha_val = m[index]\n",
      "    17    250000     732690.0      2.9      4.1          X = x[index]\n",
      "    18    250000     731406.0      2.9      4.0          P = p[index]\n",
      "    19                                                   # Use tuple (n_val, alpha_val) as the key to check if we already computed this polynomial\n",
      "    20    250000     565523.0      2.3      3.1          key = (n_val, alpha_val)\n",
      "    21    250000     598420.0      2.4      3.3          axis = (n_val, alpha_val,X, P)\n",
      "    22                                                   \n",
      "    23    250000     780668.0      3.1      4.3          if key in computed_polynomials:\n",
      "    24                                                       # If already computed, use the cached polynomial\n",
      "    25    249979    1089452.0      4.4      6.0              if axis in computed_axis:\n",
      "    26     40000     191921.0      4.8      1.1                  results[index] = computed_axis[axis]\n",
      "    27                                                       else :\n",
      "    28    209979    7942297.0     37.8     43.9                  computed_axis[axis] = computed_polynomials[key](X**2+P**2)\n",
      "    29    209979     908878.0      4.3      5.0                  results[index] = computed_axis[axis]\n",
      "    30                                                   else:\n",
      "    31                                                       # Create the generalized Laguerre polynomial for this pair (n, alpha)\n",
      "    32        21      26807.0   1276.5      0.1              L = genlaguerre(n_val, alpha_val)\n",
      "    33        21         76.0      3.6      0.0              computed_polynomials[key] = L\n",
      "    34        21        977.0     46.5      0.0              computed_axis[axis] = computed_polynomials[key](X**2+P**2)\n",
      "    35        21        112.0      5.3      0.0              results[index] = computed_axis[axis]\n",
      "    36                                               \n",
      "    37                                               # Return the array of generalized Laguerre polynomials\n",
      "    38         1         13.0     13.0      0.0      return results"
     ]
    }
   ],
   "source": [
    "x = np.linspace(-5,5,100)\n",
    "p = np.linspace(-5,5,100)\n",
    "\n",
    "n_cutoff = 5\n",
    "one = np.zeros(n_cutoff).reshape(n_cutoff,1)\n",
    "one[1]=1\n",
    "n = np.arange(100, dtype=np.int16)\n",
    "m = np.arange(100, dtype=np.int16)\n",
    "rho = np.random.rand(len(n),len(n))\n",
    "rho = rho/np.linalg.norm(rho)\n",
    "print(rho)\n",
    "\n",
    "W = wigner_from_density(rho, x, p)\n",
    "rrr = density_from_wigner(W,n,m)"
   ]
  }
 ],
 "metadata": {
  "kernelspec": {
   "display_name": ".venv",
   "language": "python",
   "name": "python3"
  },
  "language_info": {
   "codemirror_mode": {
    "name": "ipython",
    "version": 3
   },
   "file_extension": ".py",
   "mimetype": "text/x-python",
   "name": "python",
   "nbconvert_exporter": "python",
   "pygments_lexer": "ipython3",
   "version": "3.12.0"
  }
 },
 "nbformat": 4,
 "nbformat_minor": 2
}
